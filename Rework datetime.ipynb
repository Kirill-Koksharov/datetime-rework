{
  "metadata": {
    "kernelspec": {
      "name": "python",
      "display_name": "Python (Pyodide)",
      "language": "python"
    },
    "language_info": {
      "codemirror_mode": {
        "name": "python",
        "version": 3
      },
      "file_extension": ".py",
      "mimetype": "text/x-python",
      "name": "python",
      "nbconvert_exporter": "python",
      "pygments_lexer": "ipython3",
      "version": "3.8"
    }
  },
  "nbformat_minor": 4,
  "nbformat": 4,
  "cells": [
    {
      "cell_type": "code",
      "source": "import pandas as pd\n\ndata = pd.read_csv('1xbet.csv')\n\ndata.head()",
      "metadata": {
        "trusted": true
      },
      "outputs": [
        {
          "name": "stderr",
          "text": "<ipython-input-2-35e33ac45714>:1: DeprecationWarning: \nPyarrow will become a required dependency of pandas in the next major release of pandas (pandas 3.0),\n(to allow more performant data types, such as the Arrow string type, and better interoperability with other libraries)\nbut was not found to be installed on your system.\nIf this would cause problems for you,\nplease provide us feedback at https://github.com/pandas-dev/pandas/issues/54466\n        \n  import pandas as pd\n",
          "output_type": "stream"
        },
        {
          "execution_count": 2,
          "output_type": "execute_result",
          "data": {
            "text/plain": "   _mb_row_id    ID Player   Country Currency Date Registration  \\\n0           1  963,551,036  Cameroon      DOP         17/7/2021   \n1           2      396,456   Nigeria      BMD         18/3/2021   \n2           3    1,846,506   Jamaica      LKR         24/4/2022   \n3           4   78,030,033  Maldives      BSD         16/8/2023   \n4           5       77,768  Paraguay      PAB         2/12/2021   \n\n  Date Registration Time Date First Deposit Date First Deposit Time  \\\n0               23:21:02          10/8/2021                13:39:19   \n1               23:28:10           3/4/2021                 5:32:18   \n2                7:06:51          14/5/2022                 7:43:50   \n3               11:00:41          21/8/2023                18:16:19   \n4               20:03:21         15/12/2021                20:50:34   \n\n         Platform Registration ID Affiliate  ... Sports Profit  \\\n0  Мобильная версия сайта (v3)       99,309  ...        13,082   \n1  Мобильная версия сайта (v3)       17,202  ...        38,872   \n2                   NewAndroid       52,293  ...        10,565   \n3           Web (Новый дизайн)        8,233  ...         4,601   \n4  Мобильная версия сайта (v3)       25,700  ...       -59,422   \n\n  Total Casino Bets Number Of Casino Bets Sum Casino Bets Sum Casino Wins  \\\n0               480                   476          82,645          14,680   \n1               817                   432          30,551          41,975   \n2               195                    52          46,124          59,075   \n3               724                   406          32,886          22,752   \n4               807                   453          79,915          26,070   \n\n   Casino Profit  Total Deposits Sum Deposits Total Withdrawals  \\\n0        -35,110              46       92,748                28   \n1        -43,727              29        7,449                38   \n2         28,370              59        8,447                22   \n3         -1,369              54       48,911                27   \n4         59,674              18       81,244                18   \n\n  Sum Withdrawals  \n0          33,069  \n1          12,277  \n2          18,750  \n3          24,788  \n4          27,341  \n\n[5 rows x 29 columns]",
            "text/html": "<div>\n<style scoped>\n    .dataframe tbody tr th:only-of-type {\n        vertical-align: middle;\n    }\n\n    .dataframe tbody tr th {\n        vertical-align: top;\n    }\n\n    .dataframe thead th {\n        text-align: right;\n    }\n</style>\n<table border=\"1\" class=\"dataframe\">\n  <thead>\n    <tr style=\"text-align: right;\">\n      <th></th>\n      <th>_mb_row_id</th>\n      <th>ID Player</th>\n      <th>Country</th>\n      <th>Currency</th>\n      <th>Date Registration</th>\n      <th>Date Registration Time</th>\n      <th>Date First Deposit</th>\n      <th>Date First Deposit Time</th>\n      <th>Platform Registration</th>\n      <th>ID Affiliate</th>\n      <th>...</th>\n      <th>Sports Profit</th>\n      <th>Total Casino Bets</th>\n      <th>Number Of Casino Bets</th>\n      <th>Sum Casino Bets</th>\n      <th>Sum Casino Wins</th>\n      <th>Casino Profit</th>\n      <th>Total Deposits</th>\n      <th>Sum Deposits</th>\n      <th>Total Withdrawals</th>\n      <th>Sum Withdrawals</th>\n    </tr>\n  </thead>\n  <tbody>\n    <tr>\n      <th>0</th>\n      <td>1</td>\n      <td>963,551,036</td>\n      <td>Cameroon</td>\n      <td>DOP</td>\n      <td>17/7/2021</td>\n      <td>23:21:02</td>\n      <td>10/8/2021</td>\n      <td>13:39:19</td>\n      <td>Мобильная версия сайта (v3)</td>\n      <td>99,309</td>\n      <td>...</td>\n      <td>13,082</td>\n      <td>480</td>\n      <td>476</td>\n      <td>82,645</td>\n      <td>14,680</td>\n      <td>-35,110</td>\n      <td>46</td>\n      <td>92,748</td>\n      <td>28</td>\n      <td>33,069</td>\n    </tr>\n    <tr>\n      <th>1</th>\n      <td>2</td>\n      <td>396,456</td>\n      <td>Nigeria</td>\n      <td>BMD</td>\n      <td>18/3/2021</td>\n      <td>23:28:10</td>\n      <td>3/4/2021</td>\n      <td>5:32:18</td>\n      <td>Мобильная версия сайта (v3)</td>\n      <td>17,202</td>\n      <td>...</td>\n      <td>38,872</td>\n      <td>817</td>\n      <td>432</td>\n      <td>30,551</td>\n      <td>41,975</td>\n      <td>-43,727</td>\n      <td>29</td>\n      <td>7,449</td>\n      <td>38</td>\n      <td>12,277</td>\n    </tr>\n    <tr>\n      <th>2</th>\n      <td>3</td>\n      <td>1,846,506</td>\n      <td>Jamaica</td>\n      <td>LKR</td>\n      <td>24/4/2022</td>\n      <td>7:06:51</td>\n      <td>14/5/2022</td>\n      <td>7:43:50</td>\n      <td>NewAndroid</td>\n      <td>52,293</td>\n      <td>...</td>\n      <td>10,565</td>\n      <td>195</td>\n      <td>52</td>\n      <td>46,124</td>\n      <td>59,075</td>\n      <td>28,370</td>\n      <td>59</td>\n      <td>8,447</td>\n      <td>22</td>\n      <td>18,750</td>\n    </tr>\n    <tr>\n      <th>3</th>\n      <td>4</td>\n      <td>78,030,033</td>\n      <td>Maldives</td>\n      <td>BSD</td>\n      <td>16/8/2023</td>\n      <td>11:00:41</td>\n      <td>21/8/2023</td>\n      <td>18:16:19</td>\n      <td>Web (Новый дизайн)</td>\n      <td>8,233</td>\n      <td>...</td>\n      <td>4,601</td>\n      <td>724</td>\n      <td>406</td>\n      <td>32,886</td>\n      <td>22,752</td>\n      <td>-1,369</td>\n      <td>54</td>\n      <td>48,911</td>\n      <td>27</td>\n      <td>24,788</td>\n    </tr>\n    <tr>\n      <th>4</th>\n      <td>5</td>\n      <td>77,768</td>\n      <td>Paraguay</td>\n      <td>PAB</td>\n      <td>2/12/2021</td>\n      <td>20:03:21</td>\n      <td>15/12/2021</td>\n      <td>20:50:34</td>\n      <td>Мобильная версия сайта (v3)</td>\n      <td>25,700</td>\n      <td>...</td>\n      <td>-59,422</td>\n      <td>807</td>\n      <td>453</td>\n      <td>79,915</td>\n      <td>26,070</td>\n      <td>59,674</td>\n      <td>18</td>\n      <td>81,244</td>\n      <td>18</td>\n      <td>27,341</td>\n    </tr>\n  </tbody>\n</table>\n<p>5 rows × 29 columns</p>\n</div>"
          },
          "metadata": {}
        }
      ],
      "execution_count": 2
    },
    {
      "cell_type": "code",
      "source": "data['registration_datetime'] = pd.to_datetime(data['Date Registration'] + ' ' + data['Date Registration Time'], dayfirst=True)\ndata['first_deposit_datetime'] = pd.to_datetime(data['Date First Deposit'] + ' ' + data['Date First Deposit Time'], dayfirst=True)",
      "metadata": {
        "trusted": true
      },
      "outputs": [],
      "execution_count": 3
    },
    {
      "cell_type": "code",
      "source": "data = data.drop(['Date Registration', 'Date Registration Time', 'Date First Deposit', 'Date First Deposit Time'], axis=1)\n\ndata.head()",
      "metadata": {
        "trusted": true
      },
      "outputs": [
        {
          "execution_count": 4,
          "output_type": "execute_result",
          "data": {
            "text/plain": "   _mb_row_id    ID Player   Country Currency        Platform Registration  \\\n0           1  963,551,036  Cameroon      DOP  Мобильная версия сайта (v3)   \n1           2      396,456   Nigeria      BMD  Мобильная версия сайта (v3)   \n2           3    1,846,506   Jamaica      LKR                   NewAndroid   \n3           4   78,030,033  Maldives      BSD           Web (Новый дизайн)   \n4           5       77,768  Paraguay      PAB  Мобильная версия сайта (v3)   \n\n  ID Affiliate Bonus Type Lang Group Traffic   Source  ...  \\\n0       99,309        fly   ne       partner   Google  ...   \n1       17,202     inside  bhb       partner  Яндекс   ...   \n2       52,293       make   pt       partner  Яндекс   ...   \n3        8,233     listen  ber       organic    adult  ...   \n4       25,700       life   ks       partner  Яндекс   ...   \n\n  Number Of Casino Bets  Sum Casino Bets  Sum Casino Wins Casino Profit  \\\n0                   476           82,645           14,680       -35,110   \n1                   432           30,551           41,975       -43,727   \n2                    52           46,124           59,075        28,370   \n3                   406           32,886           22,752        -1,369   \n4                   453           79,915           26,070        59,674   \n\n  Total Deposits Sum Deposits  Total Withdrawals  Sum Withdrawals  \\\n0             46       92,748                 28           33,069   \n1             29        7,449                 38           12,277   \n2             59        8,447                 22           18,750   \n3             54       48,911                 27           24,788   \n4             18       81,244                 18           27,341   \n\n  registration_datetime first_deposit_datetime  \n0   2021-07-17 23:21:02    2021-08-10 13:39:19  \n1   2021-03-18 23:28:10    2021-04-03 05:32:18  \n2   2022-04-24 07:06:51    2022-05-14 07:43:50  \n3   2023-08-16 11:00:41    2023-08-21 18:16:19  \n4   2021-12-02 20:03:21    2021-12-15 20:50:34  \n\n[5 rows x 27 columns]",
            "text/html": "<div>\n<style scoped>\n    .dataframe tbody tr th:only-of-type {\n        vertical-align: middle;\n    }\n\n    .dataframe tbody tr th {\n        vertical-align: top;\n    }\n\n    .dataframe thead th {\n        text-align: right;\n    }\n</style>\n<table border=\"1\" class=\"dataframe\">\n  <thead>\n    <tr style=\"text-align: right;\">\n      <th></th>\n      <th>_mb_row_id</th>\n      <th>ID Player</th>\n      <th>Country</th>\n      <th>Currency</th>\n      <th>Platform Registration</th>\n      <th>ID Affiliate</th>\n      <th>Bonus Type</th>\n      <th>Lang</th>\n      <th>Group Traffic</th>\n      <th>Source</th>\n      <th>...</th>\n      <th>Number Of Casino Bets</th>\n      <th>Sum Casino Bets</th>\n      <th>Sum Casino Wins</th>\n      <th>Casino Profit</th>\n      <th>Total Deposits</th>\n      <th>Sum Deposits</th>\n      <th>Total Withdrawals</th>\n      <th>Sum Withdrawals</th>\n      <th>registration_datetime</th>\n      <th>first_deposit_datetime</th>\n    </tr>\n  </thead>\n  <tbody>\n    <tr>\n      <th>0</th>\n      <td>1</td>\n      <td>963,551,036</td>\n      <td>Cameroon</td>\n      <td>DOP</td>\n      <td>Мобильная версия сайта (v3)</td>\n      <td>99,309</td>\n      <td>fly</td>\n      <td>ne</td>\n      <td>partner</td>\n      <td>Google</td>\n      <td>...</td>\n      <td>476</td>\n      <td>82,645</td>\n      <td>14,680</td>\n      <td>-35,110</td>\n      <td>46</td>\n      <td>92,748</td>\n      <td>28</td>\n      <td>33,069</td>\n      <td>2021-07-17 23:21:02</td>\n      <td>2021-08-10 13:39:19</td>\n    </tr>\n    <tr>\n      <th>1</th>\n      <td>2</td>\n      <td>396,456</td>\n      <td>Nigeria</td>\n      <td>BMD</td>\n      <td>Мобильная версия сайта (v3)</td>\n      <td>17,202</td>\n      <td>inside</td>\n      <td>bhb</td>\n      <td>partner</td>\n      <td>Яндекс</td>\n      <td>...</td>\n      <td>432</td>\n      <td>30,551</td>\n      <td>41,975</td>\n      <td>-43,727</td>\n      <td>29</td>\n      <td>7,449</td>\n      <td>38</td>\n      <td>12,277</td>\n      <td>2021-03-18 23:28:10</td>\n      <td>2021-04-03 05:32:18</td>\n    </tr>\n    <tr>\n      <th>2</th>\n      <td>3</td>\n      <td>1,846,506</td>\n      <td>Jamaica</td>\n      <td>LKR</td>\n      <td>NewAndroid</td>\n      <td>52,293</td>\n      <td>make</td>\n      <td>pt</td>\n      <td>partner</td>\n      <td>Яндекс</td>\n      <td>...</td>\n      <td>52</td>\n      <td>46,124</td>\n      <td>59,075</td>\n      <td>28,370</td>\n      <td>59</td>\n      <td>8,447</td>\n      <td>22</td>\n      <td>18,750</td>\n      <td>2022-04-24 07:06:51</td>\n      <td>2022-05-14 07:43:50</td>\n    </tr>\n    <tr>\n      <th>3</th>\n      <td>4</td>\n      <td>78,030,033</td>\n      <td>Maldives</td>\n      <td>BSD</td>\n      <td>Web (Новый дизайн)</td>\n      <td>8,233</td>\n      <td>listen</td>\n      <td>ber</td>\n      <td>organic</td>\n      <td>adult</td>\n      <td>...</td>\n      <td>406</td>\n      <td>32,886</td>\n      <td>22,752</td>\n      <td>-1,369</td>\n      <td>54</td>\n      <td>48,911</td>\n      <td>27</td>\n      <td>24,788</td>\n      <td>2023-08-16 11:00:41</td>\n      <td>2023-08-21 18:16:19</td>\n    </tr>\n    <tr>\n      <th>4</th>\n      <td>5</td>\n      <td>77,768</td>\n      <td>Paraguay</td>\n      <td>PAB</td>\n      <td>Мобильная версия сайта (v3)</td>\n      <td>25,700</td>\n      <td>life</td>\n      <td>ks</td>\n      <td>partner</td>\n      <td>Яндекс</td>\n      <td>...</td>\n      <td>453</td>\n      <td>79,915</td>\n      <td>26,070</td>\n      <td>59,674</td>\n      <td>18</td>\n      <td>81,244</td>\n      <td>18</td>\n      <td>27,341</td>\n      <td>2021-12-02 20:03:21</td>\n      <td>2021-12-15 20:50:34</td>\n    </tr>\n  </tbody>\n</table>\n<p>5 rows × 27 columns</p>\n</div>"
          },
          "metadata": {}
        }
      ],
      "execution_count": 4
    },
    {
      "cell_type": "code",
      "source": "data['diff_seconds'] = (data['first_deposit_datetime'] - data['registration_datetime']).dt.total_seconds()",
      "metadata": {
        "trusted": true
      },
      "outputs": [],
      "execution_count": 5
    },
    {
      "cell_type": "code",
      "source": "data['diff_hours'] = data['diff_seconds'] / 3600",
      "metadata": {
        "trusted": true
      },
      "outputs": [],
      "execution_count": 6
    },
    {
      "cell_type": "code",
      "source": "avg_diff_hours = data['diff_hours'].mean()",
      "metadata": {
        "trusted": true
      },
      "outputs": [],
      "execution_count": 7
    },
    {
      "cell_type": "code",
      "source": "avg_diff_hours",
      "metadata": {
        "trusted": true
      },
      "outputs": [
        {
          "execution_count": 8,
          "output_type": "execute_result",
          "data": {
            "text/plain": "375.88179591666665"
          },
          "metadata": {}
        }
      ],
      "execution_count": 8
    },
    {
      "cell_type": "code",
      "source": "",
      "metadata": {
        "trusted": true
      },
      "outputs": [],
      "execution_count": null
    }
  ]
}